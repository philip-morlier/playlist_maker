{
 "cells": [
  {
   "cell_type": "code",
   "execution_count": 155,
   "metadata": {},
   "outputs": [],
   "source": [
    "import pandas as pd"
   ]
  },
  {
   "cell_type": "code",
   "execution_count": 156,
   "metadata": {},
   "outputs": [],
   "source": [
    "full_table = pd.read_csv(\"CSVs/initial_list.csv\")"
   ]
  },
  {
   "cell_type": "code",
   "execution_count": 157,
   "metadata": {},
   "outputs": [],
   "source": [
    "#creating ID for title_table\n",
    "full_title = full_table\n",
    "full_title=full_title.reset_index()\n",
    "full_title=full_title.rename(columns={'index': 'Title_id'})\n",
    "full_title['Title_id'] = full_title['Title_id'] + 1"
   ]
  },
  {
   "cell_type": "code",
   "execution_count": 158,
   "metadata": {},
   "outputs": [],
   "source": [
    "#creating ID for artist table\n",
    "full_artist = full_title[['Artist']].drop_duplicates()\n",
    "full_artist= full_artist.reset_index()\n",
    "full_artist=full_artist.drop(columns=['index'])\n",
    "full_artist=full_artist.reset_index()\n",
    "full_artist = full_artist.rename(columns={'index':'Artist_id'})\n",
    "full_artist['Artist_id']=full_artist['Artist_id'] + 1"
   ]
  },
  {
   "cell_type": "code",
   "execution_count": 159,
   "metadata": {},
   "outputs": [],
   "source": [
    "#creating ID for album table\n",
    "full_album = full_title[[\"Album\"]].drop_duplicates()\n",
    "full_album = full_album.reset_index()\n",
    "full_album = full_album.drop(columns=['index'])\n",
    "full_album = full_album.reset_index()\n",
    "full_album = full_album.rename(columns={'index':'Album_id'})\n",
    "full_album['Album_id'] = full_album['Album_id'] + 1"
   ]
  },
  {
   "cell_type": "code",
   "execution_count": 165,
   "metadata": {},
   "outputs": [],
   "source": [
    "#Recombining title\n",
    "full_title1 = full_title.merge(full_artist, how='left', on='Artist')\n",
    "full_title2 = full_title1.merge(full_album, how='left', on='Album')\n",
    "Title_clean = full_title2[['Title_id', 'Title', 'Artist_id', 'Album_id']]\n",
    "Title_clean.to_csv('CSVs/Title.csv')"
   ]
  },
  {
   "cell_type": "code",
   "execution_count": null,
   "metadata": {},
   "outputs": [],
   "source": []
  },
  {
   "cell_type": "code",
   "execution_count": null,
   "metadata": {},
   "outputs": [],
   "source": []
  }
 ],
 "metadata": {
  "kernelspec": {
   "display_name": "Python 3",
   "language": "python",
   "name": "python3"
  },
  "language_info": {
   "codemirror_mode": {
    "name": "ipython",
    "version": 3
   },
   "file_extension": ".py",
   "mimetype": "text/x-python",
   "name": "python",
   "nbconvert_exporter": "python",
   "pygments_lexer": "ipython3",
   "version": "3.7.4"
  }
 },
 "nbformat": 4,
 "nbformat_minor": 4
}
