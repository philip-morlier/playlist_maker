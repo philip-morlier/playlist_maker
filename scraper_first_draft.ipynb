{
 "cells": [
  {
   "cell_type": "code",
   "execution_count": 53,
   "metadata": {},
   "outputs": [],
   "source": [
    "import requests as rq\n",
    "from bs4 import BeautifulSoup as bs\n",
    "import re"
   ]
  },
  {
   "cell_type": "code",
   "execution_count": 115,
   "metadata": {},
   "outputs": [],
   "source": [
    "url='https://api.composer.nprstations.org/v1/widget/519298c7e1c876ffebb2149b/day?date=2020-07-11&format=html'\n",
    "html = rq.get(url) \n",
    "soup = bs(html.text, 'html.parser')\n",
    "indv_songs=list(soup.find_all('div',class_='single-data'))"
   ]
  },
  {
   "cell_type": "code",
   "execution_count": 116,
   "metadata": {},
   "outputs": [],
   "source": [
    "pre_parsed_data=[]\n",
    "for x in indv_songs:\n",
    "    pre_parsed_data.append(x.get_text())"
   ]
  },
  {
   "cell_type": "code",
   "execution_count": 117,
   "metadata": {},
   "outputs": [
    {
     "data": {
      "text/plain": [
       "['TITLE:Autumn LeavesARTIST:Bill Evans TrioALBUM:Portrait in Jazz',\n",
       " 'TITLE:Love For SaleCOMPOSER:Cole PorterARTIST:Tommy FlanaganALBUM:Coleman Hawkins: Body and Soul (West Wind)',\n",
       " 'TITLE:The Sea SerpentARTIST:Tom HarrellALBUM:Prana Dance',\n",
       " 'TITLE:Smoke Gets in Your EyesARTIST:Cedar WaltonALBUM:The Promise Land',\n",
       " 'TITLE:Indian SummerARTIST:Red HollowayALBUM:Coast to Coast',\n",
       " \"TITLE:MistyARTIST:Wes Montgomery & Wynton Kelly TrioALBUM:Smokin' At The Half Note (Expanded Edition)\",\n",
       " 'TITLE:Star Crossed LoversARTIST:Randy WestonALBUM:Live At the Five Spot',\n",
       " 'TITLE:I Let a Song Go Out of My HeartARTIST:Thelonious MonkALBUM:Plays Duke Ellington',\n",
       " \"TITLE:(I Don't Stand ) A Ghost of a Chance (With You)ARTIST:Erroll GarnerALBUM:The Complete Savoy Master Takes\",\n",
       " \"TITLE:Ain't Misbehavin'ARTIST:Sarah VaughanALBUM:The Divine Sarah Vaughan: The Columbia Years 1949-1953\",\n",
       " 'TITLE:Blues for ShirleyARTIST:Ezra WeissALBUM:The Shirley Horn Suite',\n",
       " 'TITLE:The Shadow of Your SmileARTIST:Eddie HarrisALBUM:The In Sound',\n",
       " 'TITLE:Black RoseCOMPOSER:Gerald WilsonARTIST:Gerald WilsonALBUM:Big Band Modern',\n",
       " 'TITLE:On Green Dolphin StreetARTIST:Herbie HancockALBUM:The Piano',\n",
       " 'TITLE:Love Walked InCOMPOSER:Gershwin/GershwinARTIST:George ShearingALBUM:Light, Airy & Swinging',\n",
       " \"TITLE:It's Bad to Be ForgottenARTIST:Duke EllingtonALBUM:Piano In the Foreground\",\n",
       " 'TITLE:My IdealARTIST:Kenny DorhamALBUM:Quiet Kenny',\n",
       " 'TITLE:DelilahARTIST:Clifford Brown & Max Roach QuintetALBUM:Clifford Brown And Max Roach',\n",
       " \"TITLE:You'd Be So Nice To Come Home ToARTIST:Coleman Hawkins & Ben WebsterALBUM:Coleman Hawkins Encounters Ben Webster\",\n",
       " 'TITLE:Kids Are Pretty People (feat. Benny Golson, Bob Brookmeyer, Frank Wess, James Moody, Jimmy Owens & Richard Davis)ARTIST:Hank JonesALBUM:One More: The Music of Thad Jones (feat. Benny Golson, Bob Brookmeyer, Frank Wess, James Moody, Jimmy Owens & Richard Davis)',\n",
       " 'TITLE:How Deep is The OceanARTIST:Chet Baker & Paul BleyALBUM:Diane',\n",
       " 'TITLE:The Sweet Time Suite: Pt. 2, For H. / Pt. 3, For JanCOMPOSER:Wheeler/WinstoneARTIST:Kenny WheelerALBUM:Music for Large and Small Ensembles',\n",
       " 'TITLE:Me DeixaARTIST:Joao Donato',\n",
       " 'TITLE:Vivo SonhandoARTIST:Eumir DeodatoALBUM:As Maiores Composições de Antonio Carlos Jobim',\n",
       " 'TITLE:CorcovadoARTIST:Miles DavisALBUM:Quiet Nights',\n",
       " 'TITLE:Tres Palabras (feat. Coleman Hawkins)ARTIST:Kenny BurrellALBUM:Bluesy Burrell (Rudy Van Gelder Remaster) [feat. Coleman Hawkins]',\n",
       " 'TITLE:Favela (live)ARTIST:Vince Guaraldi & Bola SeteALBUM:Live at El Matador',\n",
       " 'TITLE:Piza Na FulôARTIST:BongaALBUM:Raizes',\n",
       " 'TITLE:Inútil PaisagemARTIST:Pery RibeiroALBUM:Pery (feat. Primo Quinteto & Breno Sauer)',\n",
       " \"TITLE:Cancao Do Nosso AmorARTIST:Sergio Mendes & Brasil '66ALBUM:Stillness\",\n",
       " 'TITLE:JoyaARTIST:JoyceALBUM:Passarinho Urbano',\n",
       " 'TITLE:De Frente Pro CrimeARTIST:Joyce',\n",
       " 'TITLE:Dá LicençaARTIST:Ataulfo Alves',\n",
       " 'TITLE:Promessa Ao GantoisARTIST:Os Tincoãs',\n",
       " 'TITLE:Lamento do CapoeiraARTIST:Paulo FreireALBUM:Sambas Em Estéreo',\n",
       " 'TITLE:Algum LugarARTIST:Marilia MedalhaALBUM:A Canção e a Voz de Marília Medalha Na Poesia de Vinicius de Moraes',\n",
       " 'TITLE:As Dores do MundoARTIST:HyldonALBUM:Na Rua, Na Chuva, Na Fazenda (Edição Especial de 30 Años)',\n",
       " \"TITLE:Let's Have a Ball TonightARTIST:Tim MaiaALBUM:World Psychedelic Classics 4: Nobody Can Live Forever - The Existential Soul of Tim Maia\",\n",
       " 'TITLE:Tio MacrôARTIST:Dom SalvadorALBUM:Dom Salvador',\n",
       " 'TITLE:Moeda, Reza e CorARTIST:Dom Salvador & AboliçãoALBUM:Série Samba Soul',\n",
       " 'TITLE:Mixing Pot (Tacho)ARTIST:Hermeto PascoalALBUM:Slaves Mass',\n",
       " 'TITLE:BebeARTIST:AirtoALBUM:Natural Feelings',\n",
       " 'TITLE:HermetoARTIST:Hermeto PaschoalALBUM:Hermeto',\n",
       " 'TITLE:Nada Sei de PreconceitoARTIST:Djalma DiasALBUM:Não Faça Drama',\n",
       " 'TITLE:MadelenaARTIST:DilaALBUM:Dila',\n",
       " 'TITLE:Bicho do MatoARTIST:Elis ReginaALBUM:Em Pleno Verão',\n",
       " 'TITLE:Mister SambaARTIST:AlcioneALBUM:Vamos Arrepiar',\n",
       " 'TITLE:Aquele UmARTIST:DjavanALBUM:Alumbramento / Djavan',\n",
       " 'TITLE:A Paraíba Não é ChicagoARTIST:Marcos ValleALBUM:Vontade de Rever Você',\n",
       " 'TITLE:CurimãoARTIST:Fernando FalcãoALBUM:Memória das Águas']"
      ]
     },
     "execution_count": 117,
     "metadata": {},
     "output_type": "execute_result"
    }
   ],
   "source": [
    "pre_parsed_data"
   ]
  },
  {
   "cell_type": "code",
   "execution_count": 110,
   "metadata": {},
   "outputs": [],
   "source": [
    "def playlist_packager(string): \n",
    "    title_result=re.search('TITLE:(.*)ARTIST', string)\n",
    "    if 'COMPOSER' in title_result.group(1):\n",
    "        composer=re.search('COMPOSER:(.*)ARTIST',string)\n",
    "        title=re.search('TITLE:(.*)COMPOSER',string).group(1)\n",
    "    else:\n",
    "        title=title_result.group(1)\n",
    "    artist_result=re.search('ARTIST:(.*)ALBUM',string)\n",
    "    if bool(artist_result)==True:\n",
    "        artist=artist_result.group(1)\n",
    "    else:\n",
    "        artist='Blank'\n",
    "    album_result=re.search('ALBUM:(.*)',string)\n",
    "    if bool(album_result)==True:\n",
    "        album=album_result.group(1)\n",
    "    else:\n",
    "        album='Blank'\n",
    "    entry=(title,artist,album)\n",
    "    return entry\n"
   ]
  },
  {
   "cell_type": "code",
   "execution_count": 73,
   "metadata": {},
   "outputs": [],
   "source": [
    "def package_maker(list_):\n",
    "    package=[]\n",
    "    for item in list_:\n",
    "        single=playlist_packager(item)\n",
    "        package.append(single)\n",
    "    return package"
   ]
  },
  {
   "cell_type": "code",
   "execution_count": 113,
   "metadata": {},
   "outputs": [],
   "source": [
    "att=package_maker(pre_parsed_data)"
   ]
  },
  {
   "cell_type": "code",
   "execution_count": 114,
   "metadata": {},
   "outputs": [
    {
     "data": {
      "text/plain": [
       "[('Autumn Leaves', 'Bill Evans Trio', 'Portrait in Jazz'),\n",
       " ('Love For Sale',\n",
       "  'Tommy Flanagan',\n",
       "  'Coleman Hawkins: Body and Soul (West Wind)'),\n",
       " ('The Sea Serpent', 'Tom Harrell', 'Prana Dance'),\n",
       " ('Smoke Gets in Your Eyes', 'Cedar Walton', 'The Promise Land'),\n",
       " ('Indian Summer', 'Red Holloway', 'Coast to Coast'),\n",
       " ('Misty',\n",
       "  'Wes Montgomery & Wynton Kelly Trio',\n",
       "  \"Smokin' At The Half Note (Expanded Edition)\"),\n",
       " ('Star Crossed Lovers', 'Randy Weston', 'Live At the Five Spot'),\n",
       " ('I Let a Song Go Out of My Heart',\n",
       "  'Thelonious Monk',\n",
       "  'Plays Duke Ellington'),\n",
       " (\"(I Don't Stand ) A Ghost of a Chance (With You)\",\n",
       "  'Erroll Garner',\n",
       "  'The Complete Savoy Master Takes'),\n",
       " (\"Ain't Misbehavin'\",\n",
       "  'Sarah Vaughan',\n",
       "  'The Divine Sarah Vaughan: The Columbia Years 1949-1953'),\n",
       " ('Blues for Shirley', 'Ezra Weiss', 'The Shirley Horn Suite'),\n",
       " ('The Shadow of Your Smile', 'Eddie Harris', 'The In Sound'),\n",
       " ('Black Rose', 'Gerald Wilson', 'Big Band Modern'),\n",
       " ('On Green Dolphin Street', 'Herbie Hancock', 'The Piano'),\n",
       " ('Love Walked In', 'George Shearing', 'Light, Airy & Swinging'),\n",
       " (\"It's Bad to Be Forgotten\", 'Duke Ellington', 'Piano In the Foreground'),\n",
       " ('My Ideal', 'Kenny Dorham', 'Quiet Kenny'),\n",
       " ('Delilah',\n",
       "  'Clifford Brown & Max Roach Quintet',\n",
       "  'Clifford Brown And Max Roach'),\n",
       " (\"You'd Be So Nice To Come Home To\",\n",
       "  'Coleman Hawkins & Ben Webster',\n",
       "  'Coleman Hawkins Encounters Ben Webster'),\n",
       " ('Kids Are Pretty People (feat. Benny Golson, Bob Brookmeyer, Frank Wess, James Moody, Jimmy Owens & Richard Davis)',\n",
       "  'Hank Jones',\n",
       "  'One More: The Music of Thad Jones (feat. Benny Golson, Bob Brookmeyer, Frank Wess, James Moody, Jimmy Owens & Richard Davis)'),\n",
       " ('How Deep is The Ocean', 'Chet Baker & Paul Bley', 'Diane'),\n",
       " ('The Sweet Time Suite: Pt. 2, For H. / Pt. 3, For Jan',\n",
       "  'Kenny Wheeler',\n",
       "  'Music for Large and Small Ensembles'),\n",
       " ('Me Deixa', 'Blank', 'Blank'),\n",
       " ('Vivo Sonhando',\n",
       "  'Eumir Deodato',\n",
       "  'As Maiores Composições de Antonio Carlos Jobim'),\n",
       " ('Corcovado', 'Miles Davis', 'Quiet Nights'),\n",
       " ('Tres Palabras (feat. Coleman Hawkins)',\n",
       "  'Kenny Burrell',\n",
       "  'Bluesy Burrell (Rudy Van Gelder Remaster) [feat. Coleman Hawkins]'),\n",
       " ('Favela (live)', 'Vince Guaraldi & Bola Sete', 'Live at El Matador'),\n",
       " ('Piza Na Fulô', 'Bonga', 'Raizes'),\n",
       " ('Inútil Paisagem',\n",
       "  'Pery Ribeiro',\n",
       "  'Pery (feat. Primo Quinteto & Breno Sauer)'),\n",
       " ('Cancao Do Nosso Amor', \"Sergio Mendes & Brasil '66\", 'Stillness'),\n",
       " ('Joya', 'Joyce', 'Passarinho Urbano'),\n",
       " ('De Frente Pro Crime', 'Blank', 'Blank'),\n",
       " ('Dá Licença', 'Blank', 'Blank'),\n",
       " ('Promessa Ao Gantois', 'Blank', 'Blank'),\n",
       " ('Lamento do Capoeira', 'Paulo Freire', 'Sambas Em Estéreo'),\n",
       " ('Algum Lugar',\n",
       "  'Marilia Medalha',\n",
       "  'A Canção e a Voz de Marília Medalha Na Poesia de Vinicius de Moraes'),\n",
       " ('As Dores do Mundo',\n",
       "  'Hyldon',\n",
       "  'Na Rua, Na Chuva, Na Fazenda (Edição Especial de 30 Años)'),\n",
       " (\"Let's Have a Ball Tonight\",\n",
       "  'Tim Maia',\n",
       "  'World Psychedelic Classics 4: Nobody Can Live Forever - The Existential Soul of Tim Maia'),\n",
       " ('Tio Macrô', 'Dom Salvador', 'Dom Salvador'),\n",
       " ('Moeda, Reza e Cor', 'Dom Salvador & Abolição', 'Série Samba Soul'),\n",
       " ('Mixing Pot (Tacho)', 'Hermeto Pascoal', 'Slaves Mass'),\n",
       " ('Bebe', 'Airto', 'Natural Feelings'),\n",
       " ('Hermeto', 'Hermeto Paschoal', 'Hermeto'),\n",
       " ('Nada Sei de Preconceito', 'Djalma Dias', 'Não Faça Drama'),\n",
       " ('Madelena', 'Dila', 'Dila'),\n",
       " ('Bicho do Mato', 'Elis Regina', 'Em Pleno Verão'),\n",
       " ('Mister Samba', 'Alcione', 'Vamos Arrepiar'),\n",
       " ('Aquele Um', 'Djavan', 'Alumbramento / Djavan'),\n",
       " ('A Paraíba Não é Chicago', 'Marcos Valle', 'Vontade de Rever Você'),\n",
       " ('Curimão', 'Fernando Falcão', 'Memória das Águas')]"
      ]
     },
     "execution_count": 114,
     "metadata": {},
     "output_type": "execute_result"
    }
   ],
   "source": [
    "att"
   ]
  }
 ],
 "metadata": {
  "kernelspec": {
   "display_name": "Python 3",
   "language": "python",
   "name": "python3"
  },
  "language_info": {
   "codemirror_mode": {
    "name": "ipython",
    "version": 3
   },
   "file_extension": ".py",
   "mimetype": "text/x-python",
   "name": "python",
   "nbconvert_exporter": "python",
   "pygments_lexer": "ipython3",
   "version": "3.7.4"
  }
 },
 "nbformat": 4,
 "nbformat_minor": 2
}
